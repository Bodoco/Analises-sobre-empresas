{
 "cells": [
  {
   "cell_type": "code",
   "execution_count": 1,
   "metadata": {},
   "outputs": [],
   "source": [
    "'''Este é um projeto de análise de dados sobre vendas de uma empresa fictícia, vamos chama-la de Benas.SA\n",
    "O objetivo é analisar os dados e responder algumas perguntas sobre o desempenho da empresa.\n",
    "Os dados estão numa planilha em excel em anexo\n",
    "'''\n",
    "import pandas as pd\n",
    "import plotly.express as px\n",
    "import plotly.graph_objects as go\n",
    "import seaborn as sns\n",
    "import matplotlib.pyplot as plt\n",
    "import numpy as np\n",
    "from datetime import datetime\n"
   ]
  },
  {
   "cell_type": "code",
   "execution_count": 2,
   "metadata": {},
   "outputs": [
    {
     "data": {
      "text/html": [
       "<div>\n",
       "<style scoped>\n",
       "    .dataframe tbody tr th:only-of-type {\n",
       "        vertical-align: middle;\n",
       "    }\n",
       "\n",
       "    .dataframe tbody tr th {\n",
       "        vertical-align: top;\n",
       "    }\n",
       "\n",
       "    .dataframe thead th {\n",
       "        text-align: right;\n",
       "    }\n",
       "</style>\n",
       "<table border=\"1\" class=\"dataframe\">\n",
       "  <thead>\n",
       "    <tr style=\"text-align: right;\">\n",
       "      <th></th>\n",
       "      <th>ID</th>\n",
       "      <th>Genero</th>\n",
       "      <th>Cidade</th>\n",
       "      <th>UF</th>\n",
       "      <th>Data Venda</th>\n",
       "      <th>Data de Nascimento</th>\n",
       "      <th>Idade</th>\n",
       "      <th>Tipo de Cartão</th>\n",
       "      <th>Data_Validade</th>\n",
       "      <th>Profissão</th>\n",
       "      <th>Produto</th>\n",
       "      <th>Qtde</th>\n",
       "      <th>Preco_compra</th>\n",
       "      <th>Preco_venda</th>\n",
       "    </tr>\n",
       "  </thead>\n",
       "  <tbody>\n",
       "    <tr>\n",
       "      <th>0</th>\n",
       "      <td>47187</td>\n",
       "      <td>F</td>\n",
       "      <td>Americana</td>\n",
       "      <td>SP</td>\n",
       "      <td>2020-09-20</td>\n",
       "      <td>1981-12-26</td>\n",
       "      <td>41</td>\n",
       "      <td>MasterCard</td>\n",
       "      <td>2020-06-14</td>\n",
       "      <td>especialista Inscrição</td>\n",
       "      <td>abre-latas elétrico</td>\n",
       "      <td>1</td>\n",
       "      <td>80</td>\n",
       "      <td>96.0</td>\n",
       "    </tr>\n",
       "    <tr>\n",
       "      <th>1</th>\n",
       "      <td>3813</td>\n",
       "      <td>F</td>\n",
       "      <td>Cariacica</td>\n",
       "      <td>ES</td>\n",
       "      <td>2019-02-11</td>\n",
       "      <td>1952-10-14</td>\n",
       "      <td>71</td>\n",
       "      <td>Visa</td>\n",
       "      <td>2019-04-24</td>\n",
       "      <td>intérprete de Medicina</td>\n",
       "      <td>batedeira</td>\n",
       "      <td>1</td>\n",
       "      <td>320</td>\n",
       "      <td>384.0</td>\n",
       "    </tr>\n",
       "    <tr>\n",
       "      <th>2</th>\n",
       "      <td>11351</td>\n",
       "      <td>F</td>\n",
       "      <td>Ceilândia</td>\n",
       "      <td>DF</td>\n",
       "      <td>2019-08-13</td>\n",
       "      <td>1950-08-06</td>\n",
       "      <td>73</td>\n",
       "      <td>Visa</td>\n",
       "      <td>2019-12-29</td>\n",
       "      <td>arqueólogo</td>\n",
       "      <td>cafeteira</td>\n",
       "      <td>1</td>\n",
       "      <td>180</td>\n",
       "      <td>216.0</td>\n",
       "    </tr>\n",
       "    <tr>\n",
       "      <th>3</th>\n",
       "      <td>31022</td>\n",
       "      <td>F</td>\n",
       "      <td>Contagem</td>\n",
       "      <td>MG</td>\n",
       "      <td>2019-07-24</td>\n",
       "      <td>1950-08-27</td>\n",
       "      <td>73</td>\n",
       "      <td>Visa</td>\n",
       "      <td>2019-10-24</td>\n",
       "      <td>assessor instrucional</td>\n",
       "      <td>fogão</td>\n",
       "      <td>1</td>\n",
       "      <td>700</td>\n",
       "      <td>840.0</td>\n",
       "    </tr>\n",
       "    <tr>\n",
       "      <th>4</th>\n",
       "      <td>17530</td>\n",
       "      <td>F</td>\n",
       "      <td>Feira de Santana</td>\n",
       "      <td>BA</td>\n",
       "      <td>2019-07-31</td>\n",
       "      <td>1972-11-12</td>\n",
       "      <td>50</td>\n",
       "      <td>MasterCard</td>\n",
       "      <td>2019-02-20</td>\n",
       "      <td>engenheiro químico</td>\n",
       "      <td>forno</td>\n",
       "      <td>1</td>\n",
       "      <td>640</td>\n",
       "      <td>768.0</td>\n",
       "    </tr>\n",
       "  </tbody>\n",
       "</table>\n",
       "</div>"
      ],
      "text/plain": [
       "      ID Genero            Cidade  UF Data Venda Data de Nascimento  Idade  \\\n",
       "0  47187      F         Americana  SP 2020-09-20         1981-12-26     41   \n",
       "1   3813      F         Cariacica  ES 2019-02-11         1952-10-14     71   \n",
       "2  11351      F         Ceilândia  DF 2019-08-13         1950-08-06     73   \n",
       "3  31022      F          Contagem  MG 2019-07-24         1950-08-27     73   \n",
       "4  17530      F  Feira de Santana  BA 2019-07-31         1972-11-12     50   \n",
       "\n",
       "  Tipo de Cartão Data_Validade                Profissão              Produto  \\\n",
       "0     MasterCard    2020-06-14  especialista Inscrição   abre-latas elétrico   \n",
       "1           Visa    2019-04-24  intérprete de Medicina             batedeira   \n",
       "2           Visa    2019-12-29              arqueólogo             cafeteira   \n",
       "3           Visa    2019-10-24   assessor instrucional                 fogão   \n",
       "4     MasterCard    2019-02-20      engenheiro químico                 forno   \n",
       "\n",
       "   Qtde  Preco_compra  Preco_venda  \n",
       "0     1            80         96.0  \n",
       "1     1           320        384.0  \n",
       "2     1           180        216.0  \n",
       "3     1           700        840.0  \n",
       "4     1           640        768.0  "
      ]
     },
     "execution_count": 2,
     "metadata": {},
     "output_type": "execute_result"
    }
   ],
   "source": [
    "#Agora vamos importar os dados\n",
    "df = pd.read_excel('Cópia de bd_vendas.xlsx')\n",
    "df.head()"
   ]
  },
  {
   "cell_type": "code",
   "execution_count": 3,
   "metadata": {},
   "outputs": [
    {
     "data": {
      "text/plain": [
       "(50000, 14)"
      ]
     },
     "execution_count": 3,
     "metadata": {},
     "output_type": "execute_result"
    }
   ],
   "source": [
    "#Vamos verificar o tamanho do nosso dataframe\n",
    "df.shape"
   ]
  },
  {
   "cell_type": "code",
   "execution_count": 4,
   "metadata": {},
   "outputs": [
    {
     "data": {
      "text/html": [
       "<div>\n",
       "<style scoped>\n",
       "    .dataframe tbody tr th:only-of-type {\n",
       "        vertical-align: middle;\n",
       "    }\n",
       "\n",
       "    .dataframe tbody tr th {\n",
       "        vertical-align: top;\n",
       "    }\n",
       "\n",
       "    .dataframe thead th {\n",
       "        text-align: right;\n",
       "    }\n",
       "</style>\n",
       "<table border=\"1\" class=\"dataframe\">\n",
       "  <thead>\n",
       "    <tr style=\"text-align: right;\">\n",
       "      <th></th>\n",
       "      <th>ID</th>\n",
       "      <th>Genero</th>\n",
       "      <th>Cidade</th>\n",
       "      <th>UF</th>\n",
       "      <th>Data Venda</th>\n",
       "      <th>Data de Nascimento</th>\n",
       "      <th>Idade</th>\n",
       "      <th>Tipo de Cartão</th>\n",
       "      <th>Data_Validade</th>\n",
       "      <th>Profissão</th>\n",
       "      <th>Produto</th>\n",
       "      <th>Qtde</th>\n",
       "      <th>Preco_compra</th>\n",
       "      <th>Preco_venda</th>\n",
       "      <th>Lucro</th>\n",
       "    </tr>\n",
       "  </thead>\n",
       "  <tbody>\n",
       "    <tr>\n",
       "      <th>0</th>\n",
       "      <td>47187</td>\n",
       "      <td>F</td>\n",
       "      <td>Americana</td>\n",
       "      <td>SP</td>\n",
       "      <td>2020-09-20</td>\n",
       "      <td>1981-12-26</td>\n",
       "      <td>41</td>\n",
       "      <td>MasterCard</td>\n",
       "      <td>2020-06-14</td>\n",
       "      <td>especialista Inscrição</td>\n",
       "      <td>abre-latas elétrico</td>\n",
       "      <td>1</td>\n",
       "      <td>80</td>\n",
       "      <td>96.0</td>\n",
       "      <td>16.0</td>\n",
       "    </tr>\n",
       "    <tr>\n",
       "      <th>1</th>\n",
       "      <td>3813</td>\n",
       "      <td>F</td>\n",
       "      <td>Cariacica</td>\n",
       "      <td>ES</td>\n",
       "      <td>2019-02-11</td>\n",
       "      <td>1952-10-14</td>\n",
       "      <td>71</td>\n",
       "      <td>Visa</td>\n",
       "      <td>2019-04-24</td>\n",
       "      <td>intérprete de Medicina</td>\n",
       "      <td>batedeira</td>\n",
       "      <td>1</td>\n",
       "      <td>320</td>\n",
       "      <td>384.0</td>\n",
       "      <td>64.0</td>\n",
       "    </tr>\n",
       "    <tr>\n",
       "      <th>2</th>\n",
       "      <td>11351</td>\n",
       "      <td>F</td>\n",
       "      <td>Ceilândia</td>\n",
       "      <td>DF</td>\n",
       "      <td>2019-08-13</td>\n",
       "      <td>1950-08-06</td>\n",
       "      <td>73</td>\n",
       "      <td>Visa</td>\n",
       "      <td>2019-12-29</td>\n",
       "      <td>arqueólogo</td>\n",
       "      <td>cafeteira</td>\n",
       "      <td>1</td>\n",
       "      <td>180</td>\n",
       "      <td>216.0</td>\n",
       "      <td>36.0</td>\n",
       "    </tr>\n",
       "    <tr>\n",
       "      <th>3</th>\n",
       "      <td>31022</td>\n",
       "      <td>F</td>\n",
       "      <td>Contagem</td>\n",
       "      <td>MG</td>\n",
       "      <td>2019-07-24</td>\n",
       "      <td>1950-08-27</td>\n",
       "      <td>73</td>\n",
       "      <td>Visa</td>\n",
       "      <td>2019-10-24</td>\n",
       "      <td>assessor instrucional</td>\n",
       "      <td>fogão</td>\n",
       "      <td>1</td>\n",
       "      <td>700</td>\n",
       "      <td>840.0</td>\n",
       "      <td>140.0</td>\n",
       "    </tr>\n",
       "    <tr>\n",
       "      <th>4</th>\n",
       "      <td>17530</td>\n",
       "      <td>F</td>\n",
       "      <td>Feira de Santana</td>\n",
       "      <td>BA</td>\n",
       "      <td>2019-07-31</td>\n",
       "      <td>1972-11-12</td>\n",
       "      <td>50</td>\n",
       "      <td>MasterCard</td>\n",
       "      <td>2019-02-20</td>\n",
       "      <td>engenheiro químico</td>\n",
       "      <td>forno</td>\n",
       "      <td>1</td>\n",
       "      <td>640</td>\n",
       "      <td>768.0</td>\n",
       "      <td>128.0</td>\n",
       "    </tr>\n",
       "  </tbody>\n",
       "</table>\n",
       "</div>"
      ],
      "text/plain": [
       "      ID Genero            Cidade  UF Data Venda Data de Nascimento  Idade  \\\n",
       "0  47187      F         Americana  SP 2020-09-20         1981-12-26     41   \n",
       "1   3813      F         Cariacica  ES 2019-02-11         1952-10-14     71   \n",
       "2  11351      F         Ceilândia  DF 2019-08-13         1950-08-06     73   \n",
       "3  31022      F          Contagem  MG 2019-07-24         1950-08-27     73   \n",
       "4  17530      F  Feira de Santana  BA 2019-07-31         1972-11-12     50   \n",
       "\n",
       "  Tipo de Cartão Data_Validade                Profissão              Produto  \\\n",
       "0     MasterCard    2020-06-14  especialista Inscrição   abre-latas elétrico   \n",
       "1           Visa    2019-04-24  intérprete de Medicina             batedeira   \n",
       "2           Visa    2019-12-29              arqueólogo             cafeteira   \n",
       "3           Visa    2019-10-24   assessor instrucional                 fogão   \n",
       "4     MasterCard    2019-02-20      engenheiro químico                 forno   \n",
       "\n",
       "   Qtde  Preco_compra  Preco_venda  Lucro  \n",
       "0     1            80         96.0   16.0  \n",
       "1     1           320        384.0   64.0  \n",
       "2     1           180        216.0   36.0  \n",
       "3     1           700        840.0  140.0  \n",
       "4     1           640        768.0  128.0  "
      ]
     },
     "execution_count": 4,
     "metadata": {},
     "output_type": "execute_result"
    }
   ],
   "source": [
    "#Vamos incluir uma coluna com o lucro obtido em cada venda\n",
    "df['Lucro'] = df['Preco_venda'] - df['Preco_compra']\n",
    "df.head()"
   ]
  },
  {
   "cell_type": "code",
   "execution_count": 5,
   "metadata": {},
   "outputs": [
    {
     "data": {
      "text/plain": [
       "ID                    0\n",
       "Genero                0\n",
       "Cidade                0\n",
       "UF                    0\n",
       "Data Venda            0\n",
       "Data de Nascimento    0\n",
       "Idade                 0\n",
       "Tipo de Cartão        0\n",
       "Data_Validade         0\n",
       "Profissão             0\n",
       "Produto               0\n",
       "Qtde                  0\n",
       "Preco_compra          0\n",
       "Preco_venda           0\n",
       "Lucro                 0\n",
       "dtype: int64"
      ]
     },
     "execution_count": 5,
     "metadata": {},
     "output_type": "execute_result"
    }
   ],
   "source": [
    "#Agora vamos verificar se temos dados faltantes\n",
    "df.isnull().sum()"
   ]
  },
  {
   "cell_type": "code",
   "execution_count": 6,
   "metadata": {},
   "outputs": [
    {
     "data": {
      "text/plain": [
       "0"
      ]
     },
     "execution_count": 6,
     "metadata": {},
     "output_type": "execute_result"
    }
   ],
   "source": [
    "#Agora vamos verificar se temos dados duplicados\n",
    "df.duplicated().sum()"
   ]
  },
  {
   "cell_type": "code",
   "execution_count": 7,
   "metadata": {},
   "outputs": [
    {
     "data": {
      "text/plain": [
       "5536871.2"
      ]
     },
     "execution_count": 7,
     "metadata": {},
     "output_type": "execute_result"
    }
   ],
   "source": [
    "#Agora vamos verficar o lucro total da empresa no periodo\n",
    "df['Lucro'].sum()\n"
   ]
  },
  {
   "cell_type": "code",
   "execution_count": 8,
   "metadata": {},
   "outputs": [
    {
     "data": {
      "image/png": "[encoded data removed]",
      "text/plain": [
       "<Figure size 640x480 with 1 Axes>"
      ]
     },
     "metadata": {},
     "output_type": "display_data"
    }
   ],
   "source": [
    "#Agora vamos fazer um grafico com os 5 produtos mais vendidos\n",
    "df['Produto'].value_counts().head(5).plot(kind='barh', color='green')\n",
    "plt.title('5 Produtos mais vendidos')\n",
    "plt.xlabel('Quantidade vendida')\n",
    "plt.ylabel('Produto')\n",
    "plt.show()\n"
   ]
  },
  {
   "cell_type": "code",
   "execution_count": 9,
   "metadata": {},
   "outputs": [
    {
     "data": {
      "application/vnd.plotly.v1+json": {
       "config": {
        "plotlyServerURL": "https://plot.ly"
       },
       "data": [
        {
         "orientation": "h",
         "type": "bar",
         "x": [
          4628,
          2753,
          1642,
          1639,
          1637
         ],
         "y": [
          "enceradeira",
          "Ferro de passar",
          "aquecedor",
          "batedeira",
          "sorveteira"
         ]
        }
       ],
       "layout": {
        "template": {
         "data": {
          "bar": [
           {
            "error_x": {
             "color": "#2a3f5f"
            },
            "error_y": {
             "color": "#2a3f5f"
            },
            "marker": {
             "line": {
              "color": "#E5ECF6",
              "width": 0.5
             },
             "pattern": {
              "fillmode": "overlay",
              "size": 10,
              "solidity": 0.2
             }
            },
            "type": "bar"
           }
          ],
          "barpolar": [
           {
            "marker": {
             "line": {
              "color": "#E5ECF6",
              "width": 0.5
             },
             "pattern": {
              "fillmode": "overlay",
              "size": 10,
              "solidity": 0.2
             }
            },
            "type": "barpolar"
           }
          ],
          "carpet": [
           {
            "aaxis": {
             "endlinecolor": "#2a3f5f",
             "gridcolor": "white",
             "linecolor": "white",
             "minorgridcolor": "white",
             "startlinecolor": "#2a3f5f"
            },
            "baxis": {
             "endlinecolor": "#2a3f5f",
             "gridcolor": "white",
             "linecolor": "white",
             "minorgridcolor": "white",
             "startlinecolor": "#2a3f5f"
            },
            "type": "carpet"
           }
          ],
          "choropleth": [
           {
            "colorbar": {
             "outlinewidth": 0,
             "ticks": ""
            },
            "type": "choropleth"
           }
          ],
          "contour": [
           {
            "colorbar": {
             "outlinewidth": 0,
             "ticks": ""
            },
            "colorscale": [
             [
              0,
              "#0d0887"
             ],
             [
              0.1111111111111111,
              "#46039f"
             ],
             [
              0.2222222222222222,
              "#7201a8"
             ],
             [
              0.3333333333333333,
              "#9c179e"
             ],
             [
              0.4444444444444444,
              "#bd3786"
             ],
             [
              0.5555555555555556,
              "#d8576b"
             ],
             [
              0.6666666666666666,
              "#ed7953"
             ],
             [
              0.7777777777777778,
              "#fb9f3a"
             ],
             [
              0.8888888888888888,
              "#fdca26"
             ],
             [
              1,
              "#f0f921"
             ]
            ],
            "type": "contour"
           }
          ],
          "contourcarpet": [
           {
            "colorbar": {
             "outlinewidth": 0,
             "ticks": ""
            },
            "type": "contourcarpet"
           }
          ],
          "heatmap": [
           {
            "colorbar": {
             "outlinewidth": 0,
             "ticks": ""
            },
            "colorscale": [
             [
              0,
              "#0d0887"
             ],
             [
              0.1111111111111111,
              "#46039f"
             ],
             [
              0.2222222222222222,
              "#7201a8"
             ],
             [
              0.3333333333333333,
              "#9c179e"
             ],
             [
              0.4444444444444444,
              "#bd3786"
             ],
             [
              0.5555555555555556,
              "#d8576b"
             ],
             [
              0.6666666666666666,
              "#ed7953"
             ],
             [
              0.7777777777777778,
              "#fb9f3a"
             ],
             [
              0.8888888888888888,
              "#fdca26"
             ],
             [
              1,
              "#f0f921"
             ]
            ],
            "type": "heatmap"
           }
          ],
          "heatmapgl": [
           {
            "colorbar": {
             "outlinewidth": 0,
             "ticks": ""
            },
            "colorscale": [
             [
              0,
              "#0d0887"
             ],
             [
              0.1111111111111111,
              "#46039f"
             ],
             [
              0.2222222222222222,
              "#7201a8"
             ],
             [
              0.3333333333333333,
              "#9c179e"
             ],
             [
              0.4444444444444444,
              "#bd3786"
             ],
             [
              0.5555555555555556,
              "#d8576b"
             ],
             [
              0.6666666666666666,
              "#ed7953"
             ],
             [
              0.7777777777777778,
              "#fb9f3a"
             ],
             [
              0.8888888888888888,
              "#fdca26"
             ],
             [
              1,
              "#f0f921"
             ]
            ],
            "type": "heatmapgl"
           }
          ],
          "histogram": [
           {
            "marker": {
             "pattern": {
              "fillmode": "overlay",
              "size": 10,
              "solidity": 0.2
             }
            },
            "type": "histogram"
           }
          ],
          "histogram2d": [
           {
            "colorbar": {
             "outlinewidth": 0,
             "ticks": ""
            },
            "colorscale": [
             [
              0,
              "#0d0887"
             ],
             [
              0.1111111111111111,
              "#46039f"
             ],
             [
              0.2222222222222222,
              "#7201a8"
             ],
             [
              0.3333333333333333,
              "#9c179e"
             ],
             [
              0.4444444444444444,
              "#bd3786"
             ],
             [
              0.5555555555555556,
              "#d8576b"
             ],
             [
              0.6666666666666666,
              "#ed7953"
             ],
             [
              0.7777777777777778,
              "#fb9f3a"
             ],
             [
              0.8888888888888888,
              "#fdca26"
             ],
             [
              1,
              "#f0f921"
             ]
            ],
            "type": "histogram2d"
           }
          ],
          "histogram2dcontour": [
           {
            "colorbar": {
             "outlinewidth": 0,
             "ticks": ""
            },
            "colorscale": [
             [
              0,
              "#0d0887"
             ],
             [
              0.1111111111111111,
              "#46039f"
             ],
             [
              0.2222222222222222,
              "#7201a8"
             ],
             [
              0.3333333333333333,
              "#9c179e"
             ],
             [
              0.4444444444444444,
              "#bd3786"
             ],
             [
              0.5555555555555556,
              "#d8576b"
             ],
             [
              0.6666666666666666,
              "#ed7953"
             ],
             [
              0.7777777777777778,
              "#fb9f3a"
             ],
             [
              0.8888888888888888,
              "#fdca26"
             ],
             [
              1,
              "#f0f921"
             ]
            ],
            "type": "histogram2dcontour"
           }
          ],
          "mesh3d": [
           {
            "colorbar": {
             "outlinewidth": 0,
             "ticks": ""
            },
            "type": "mesh3d"
           }
          ],
          "parcoords": [
           {
            "line": {
             "colorbar": {
              "outlinewidth": 0,
              "ticks": ""
             }
            },
            "type": "parcoords"
           }
          ],
          "pie": [
           {
            "automargin": true,
            "type": "pie"
           }
          ],
          "scatter": [
           {
            "fillpattern": {
             "fillmode": "overlay",
             "size": 10,
             "solidity": 0.2
            },
            "type": "scatter"
           }
          ],
          "scatter3d": [
           {
            "line": {
             "colorbar": {
              "outlinewidth": 0,
              "ticks": ""
             }
            },
            "marker": {
             "colorbar": {
              "outlinewidth": 0,
              "ticks": ""
             }
            },
            "type": "scatter3d"
           }
          ],
          "scattercarpet": [
           {
            "marker": {
             "colorbar": {
              "outlinewidth": 0,
              "ticks": ""
             }
            },
            "type": "scattercarpet"
           }
          ],
          "scattergeo": [
           {
            "marker": {
             "colorbar": {
              "outlinewidth": 0,
              "ticks": ""
             }
            },
            "type": "scattergeo"
           }
          ],
          "scattergl": [
           {
            "marker": {
             "colorbar": {
              "outlinewidth": 0,
              "ticks": ""
             }
            },
            "type": "scattergl"
           }
          ],
          "scattermapbox": [
           {
            "marker": {
             "colorbar": {
              "outlinewidth": 0,
              "ticks": ""
             }
            },
            "type": "scattermapbox"
           }
          ],
          "scatterpolar": [
           {
            "marker": {
             "colorbar": {
              "outlinewidth": 0,
              "ticks": ""
             }
            },
            "type": "scatterpolar"
           }
          ],
          "scatterpolargl": [
           {
            "marker": {
             "colorbar": {
              "outlinewidth": 0,
              "ticks": ""
             }
            },
            "type": "scatterpolargl"
           }
          ],
          "scatterternary": [
           {
            "marker": {
             "colorbar": {
              "outlinewidth": 0,
              "ticks": ""
             }
            },
            "type": "scatterternary"
           }
          ],
          "surface": [
           {
            "colorbar": {
             "outlinewidth": 0,
             "ticks": ""
            },
            "colorscale": [
             [
              0,
              "#0d0887"
             ],
             [
              0.1111111111111111,
              "#46039f"
             ],
             [
              0.2222222222222222,
              "#7201a8"
             ],
             [
              0.3333333333333333,
              "#9c179e"
             ],
             [
              0.4444444444444444,
              "#bd3786"
             ],
             [
              0.5555555555555556,
              "#d8576b"
             ],
             [
              0.6666666666666666,
              "#ed7953"
             ],
             [
              0.7777777777777778,
              "#fb9f3a"
             ],
             [
              0.8888888888888888,
              "#fdca26"
             ],
             [
              1,
              "#f0f921"
             ]
            ],
            "type": "surface"
           }
          ],
          "table": [
           {
            "cells": {
             "fill": {
              "color": "#EBF0F8"
             },
             "line": {
              "color": "white"
             }
            },
            "header": {
             "fill": {
              "color": "#C8D4E3"
             },
             "line": {
              "color": "white"
             }
            },
            "type": "table"
           }
          ]
         },
         "layout": {
          "annotationdefaults": {
           "arrowcolor": "#2a3f5f",
           "arrowhead": 0,
           "arrowwidth": 1
          },
          "autotypenumbers": "strict",
          "coloraxis": {
           "colorbar": {
            "outlinewidth": 0,
            "ticks": ""
           }
          },
          "colorscale": {
           "diverging": [
            [
             0,
             "#8e0152"
            ],
            [
             0.1,
             "#c51b7d"
            ],
            [
             0.2,
             "#de77ae"
            ],
            [
             0.3,
             "#f1b6da"
            ],
            [
             0.4,
             "#fde0ef"
            ],
            [
             0.5,
             "#f7f7f7"
            ],
            [
             0.6,
             "#e6f5d0"
            ],
            [
             0.7,
             "#b8e186"
            ],
            [
             0.8,
             "#7fbc41"
            ],
            [
             0.9,
             "#4d9221"
            ],
            [
             1,
             "#276419"
            ]
           ],
           "sequential": [
            [
             0,
             "#0d0887"
            ],
            [
             0.1111111111111111,
             "#46039f"
            ],
            [
             0.2222222222222222,
             "#7201a8"
            ],
            [
             0.3333333333333333,
             "#9c179e"
            ],
            [
             0.4444444444444444,
             "#bd3786"
            ],
            [
             0.5555555555555556,
             "#d8576b"
            ],
            [
             0.6666666666666666,
             "#ed7953"
            ],
            [
             0.7777777777777778,
             "#fb9f3a"
            ],
            [
             0.8888888888888888,
             "#fdca26"
            ],
            [
             1,
             "#f0f921"
            ]
           ],
           "sequentialminus": [
            [
             0,
             "#0d0887"
            ],
            [
             0.1111111111111111,
             "#46039f"
            ],
            [
             0.2222222222222222,
             "#7201a8"
            ],
            [
             0.3333333333333333,
             "#9c179e"
            ],
            [
             0.4444444444444444,
             "#bd3786"
            ],
            [
             0.5555555555555556,
             "#d8576b"
            ],
            [
             0.6666666666666666,
             "#ed7953"
            ],
            [
             0.7777777777777778,
             "#fb9f3a"
            ],
            [
             0.8888888888888888,
             "#fdca26"
            ],
            [
             1,
             "#f0f921"
            ]
           ]
          },
          "colorway": [
           "#636efa",
           "#EF553B",
           "#00cc96",
           "#ab63fa",
           "#FFA15A",
           "#19d3f3",
           "#FF6692",
           "#B6E880",
           "#FF97FF",
           "#FECB52"
          ],
          "font": {
           "color": "#2a3f5f"
          },
          "geo": {
           "bgcolor": "white",
           "lakecolor": "white",
           "landcolor": "#E5ECF6",
           "showlakes": true,
           "showland": true,
           "subunitcolor": "white"
          },
          "hoverlabel": {
           "align": "left"
          },
          "hovermode": "closest",
          "mapbox": {
           "style": "light"
          },
          "paper_bgcolor": "white",
          "plot_bgcolor": "#E5ECF6",
          "polar": {
           "angularaxis": {
            "gridcolor": "white",
            "linecolor": "white",
            "ticks": ""
           },
           "bgcolor": "#E5ECF6",
           "radialaxis": {
            "gridcolor": "white",
            "linecolor": "white",
            "ticks": ""
           }
          },
          "scene": {
           "xaxis": {
            "backgroundcolor": "#E5ECF6",
            "gridcolor": "white",
            "gridwidth": 2,
            "linecolor": "white",
            "showbackground": true,
            "ticks": "",
            "zerolinecolor": "white"
           },
           "yaxis": {
            "backgroundcolor": "#E5ECF6",
            "gridcolor": "white",
            "gridwidth": 2,
            "linecolor": "white",
            "showbackground": true,
            "ticks": "",
            "zerolinecolor": "white"
           },
           "zaxis": {
            "backgroundcolor": "#E5ECF6",
            "gridcolor": "white",
            "gridwidth": 2,
            "linecolor": "white",
            "showbackground": true,
            "ticks": "",
            "zerolinecolor": "white"
           }
          },
          "shapedefaults": {
           "line": {
            "color": "#2a3f5f"
           }
          },
          "ternary": {
           "aaxis": {
            "gridcolor": "white",
            "linecolor": "white",
            "ticks": ""
           },
           "baxis": {
            "gridcolor": "white",
            "linecolor": "white",
            "ticks": ""
           },
           "bgcolor": "#E5ECF6",
           "caxis": {
            "gridcolor": "white",
            "linecolor": "white",
            "ticks": ""
           }
          },
          "title": {
           "x": 0.05
          },
          "xaxis": {
           "automargin": true,
           "gridcolor": "white",
           "linecolor": "white",
           "ticks": "",
           "title": {
            "standoff": 15
           },
           "zerolinecolor": "white",
           "zerolinewidth": 2
          },
          "yaxis": {
           "automargin": true,
           "gridcolor": "white",
           "linecolor": "white",
           "ticks": "",
           "title": {
            "standoff": 15
           },
           "zerolinecolor": "white",
           "zerolinewidth": 2
          }
         }
        },
        "title": {
         "text": "5 Produtos mais vendidos"
        },
        "xaxis": {
         "title": {
          "text": "Quantidade vendida"
         }
        },
        "yaxis": {
         "title": {
          "text": "Produto"
         }
        }
       }
      }
     },
     "metadata": {},
     "output_type": "display_data"
    }
   ],
   "source": [
    "#Vamos fazer o mesmo grafico usando o plotly grafh objects\n",
    "fig = go.Figure(data=[go.Bar(y=df['Produto'].value_counts().head(5).index, x=df['Produto'].value_counts().head(5).values, orientation='h')])\n",
    "fig.update_layout(title='5 Produtos mais vendidos', xaxis_title='Quantidade vendida', yaxis_title='Produto')\n",
    "fig.show()"
   ]
  },
  {
   "cell_type": "code",
   "execution_count": 12,
   "metadata": {},
   "outputs": [
    {
     "data": {
      "text/html": [
       "<div>\n",
       "<style scoped>\n",
       "    .dataframe tbody tr th:only-of-type {\n",
       "        vertical-align: middle;\n",
       "    }\n",
       "\n",
       "    .dataframe tbody tr th {\n",
       "        vertical-align: top;\n",
       "    }\n",
       "\n",
       "    .dataframe thead th {\n",
       "        text-align: right;\n",
       "    }\n",
       "</style>\n",
       "<table border=\"1\" class=\"dataframe\">\n",
       "  <thead>\n",
       "    <tr style=\"text-align: right;\">\n",
       "      <th></th>\n",
       "      <th>ID</th>\n",
       "      <th>Genero</th>\n",
       "      <th>Cidade</th>\n",
       "      <th>UF</th>\n",
       "      <th>Data Venda</th>\n",
       "      <th>Data de Nascimento</th>\n",
       "      <th>Idade</th>\n",
       "      <th>Tipo de Cartão</th>\n",
       "      <th>Data_Validade</th>\n",
       "      <th>Profissão</th>\n",
       "      <th>Produto</th>\n",
       "      <th>Qtde</th>\n",
       "      <th>Preco_compra</th>\n",
       "      <th>Preco_venda</th>\n",
       "      <th>Lucro</th>\n",
       "      <th>Mes</th>\n",
       "      <th>Ano</th>\n",
       "    </tr>\n",
       "  </thead>\n",
       "  <tbody>\n",
       "    <tr>\n",
       "      <th>0</th>\n",
       "      <td>47187</td>\n",
       "      <td>F</td>\n",
       "      <td>Americana</td>\n",
       "      <td>SP</td>\n",
       "      <td>2020-09-20</td>\n",
       "      <td>1981-12-26</td>\n",
       "      <td>41</td>\n",
       "      <td>MasterCard</td>\n",
       "      <td>2020-06-14</td>\n",
       "      <td>especialista Inscrição</td>\n",
       "      <td>abre-latas elétrico</td>\n",
       "      <td>1</td>\n",
       "      <td>80</td>\n",
       "      <td>96.0</td>\n",
       "      <td>16.0</td>\n",
       "      <td>9</td>\n",
       "      <td>2020</td>\n",
       "    </tr>\n",
       "    <tr>\n",
       "      <th>1</th>\n",
       "      <td>3813</td>\n",
       "      <td>F</td>\n",
       "      <td>Cariacica</td>\n",
       "      <td>ES</td>\n",
       "      <td>2019-02-11</td>\n",
       "      <td>1952-10-14</td>\n",
       "      <td>71</td>\n",
       "      <td>Visa</td>\n",
       "      <td>2019-04-24</td>\n",
       "      <td>intérprete de Medicina</td>\n",
       "      <td>batedeira</td>\n",
       "      <td>1</td>\n",
       "      <td>320</td>\n",
       "      <td>384.0</td>\n",
       "      <td>64.0</td>\n",
       "      <td>2</td>\n",
       "      <td>2019</td>\n",
       "    </tr>\n",
       "    <tr>\n",
       "      <th>2</th>\n",
       "      <td>11351</td>\n",
       "      <td>F</td>\n",
       "      <td>Ceilândia</td>\n",
       "      <td>DF</td>\n",
       "      <td>2019-08-13</td>\n",
       "      <td>1950-08-06</td>\n",
       "      <td>73</td>\n",
       "      <td>Visa</td>\n",
       "      <td>2019-12-29</td>\n",
       "      <td>arqueólogo</td>\n",
       "      <td>cafeteira</td>\n",
       "      <td>1</td>\n",
       "      <td>180</td>\n",
       "      <td>216.0</td>\n",
       "      <td>36.0</td>\n",
       "      <td>8</td>\n",
       "      <td>2019</td>\n",
       "    </tr>\n",
       "    <tr>\n",
       "      <th>3</th>\n",
       "      <td>31022</td>\n",
       "      <td>F</td>\n",
       "      <td>Contagem</td>\n",
       "      <td>MG</td>\n",
       "      <td>2019-07-24</td>\n",
       "      <td>1950-08-27</td>\n",
       "      <td>73</td>\n",
       "      <td>Visa</td>\n",
       "      <td>2019-10-24</td>\n",
       "      <td>assessor instrucional</td>\n",
       "      <td>fogão</td>\n",
       "      <td>1</td>\n",
       "      <td>700</td>\n",
       "      <td>840.0</td>\n",
       "      <td>140.0</td>\n",
       "      <td>7</td>\n",
       "      <td>2019</td>\n",
       "    </tr>\n",
       "    <tr>\n",
       "      <th>4</th>\n",
       "      <td>17530</td>\n",
       "      <td>F</td>\n",
       "      <td>Feira de Santana</td>\n",
       "      <td>BA</td>\n",
       "      <td>2019-07-31</td>\n",
       "      <td>1972-11-12</td>\n",
       "      <td>50</td>\n",
       "      <td>MasterCard</td>\n",
       "      <td>2019-02-20</td>\n",
       "      <td>engenheiro químico</td>\n",
       "      <td>forno</td>\n",
       "      <td>1</td>\n",
       "      <td>640</td>\n",
       "      <td>768.0</td>\n",
       "      <td>128.0</td>\n",
       "      <td>7</td>\n",
       "      <td>2019</td>\n",
       "    </tr>\n",
       "  </tbody>\n",
       "</table>\n",
       "</div>"
      ],
      "text/plain": [
       "      ID Genero            Cidade  UF Data Venda Data de Nascimento  Idade  \\\n",
       "0  47187      F         Americana  SP 2020-09-20         1981-12-26     41   \n",
       "1   3813      F         Cariacica  ES 2019-02-11         1952-10-14     71   \n",
       "2  11351      F         Ceilândia  DF 2019-08-13         1950-08-06     73   \n",
       "3  31022      F          Contagem  MG 2019-07-24         1950-08-27     73   \n",
       "4  17530      F  Feira de Santana  BA 2019-07-31         1972-11-12     50   \n",
       "\n",
       "  Tipo de Cartão Data_Validade                Profissão              Produto  \\\n",
       "0     MasterCard    2020-06-14  especialista Inscrição   abre-latas elétrico   \n",
       "1           Visa    2019-04-24  intérprete de Medicina             batedeira   \n",
       "2           Visa    2019-12-29              arqueólogo             cafeteira   \n",
       "3           Visa    2019-10-24   assessor instrucional                 fogão   \n",
       "4     MasterCard    2019-02-20      engenheiro químico                 forno   \n",
       "\n",
       "   Qtde  Preco_compra  Preco_venda  Lucro  Mes   Ano  \n",
       "0     1            80         96.0   16.0    9  2020  \n",
       "1     1           320        384.0   64.0    2  2019  \n",
       "2     1           180        216.0   36.0    8  2019  \n",
       "3     1           700        840.0  140.0    7  2019  \n",
       "4     1           640        768.0  128.0    7  2019  "
      ]
     },
     "execution_count": 12,
     "metadata": {},
     "output_type": "execute_result"
    }
   ],
   "source": [
    "#Vamos usar a biblioteca datetime para extrair o mes e o ano de cada venda em conjunto com o pandas\n",
    "df['Mes'] = pd.DatetimeIndex(df['Data Venda']).month\n",
    "df['Ano'] = pd.DatetimeIndex(df['Data Venda']).year\n",
    "df.head()"
   ]
  },
  {
   "cell_type": "code",
   "execution_count": null,
   "metadata": {},
   "outputs": [],
   "source": []
  }
 ],
 "metadata": {
  "kernelspec": {
   "display_name": "Python 3",
   "language": "python",
   "name": "python3"
  },
  "language_info": {
   "codemirror_mode": {
    "name": "ipython",
    "version": 3
   },
   "file_extension": ".py",
   "mimetype": "text/x-python",
   "name": "python",
   "nbconvert_exporter": "python",
   "pygments_lexer": "ipython3",
   "version": "3.12.0"
  }
 },
 "nbformat": 4,
 "nbformat_minor": 2
}
